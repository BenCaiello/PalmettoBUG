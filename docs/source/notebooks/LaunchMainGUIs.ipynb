{
 "cells": [
  {
   "cell_type": "markdown",
   "id": "85eef9f5-3e14-49e0-ad74-bcd63fe296df",
   "metadata": {},
   "source": [
    "# Example of Launching GUIs from script"
   ]
  },
  {
   "cell_type": "code",
   "execution_count": 1,
   "id": "1886de9d-31f8-4fd9-afce-2c8b4ee53795",
   "metadata": {},
   "outputs": [],
   "source": [
    "import palmettobug as pbug"
   ]
  },
  {
   "cell_type": "code",
   "execution_count": 2,
   "id": "78cb2f78-fc36-4c88-96e8-c7a1fd9a506d",
   "metadata": {},
   "outputs": [],
   "source": [
    "'''\n",
    "To launch the GUI programs, and not use by scripting, you can also use these commands:\n",
    "'''\n",
    "pbug.run_GUI()"
   ]
  }
 ],
 "metadata": {
  "kernelspec": {
   "display_name": "Python 3 (ipykernel)",
   "language": "python",
   "name": "python3"
  },
  "language_info": {
   "codemirror_mode": {
    "name": "ipython",
    "version": 3
   },
   "file_extension": ".py",
   "mimetype": "text/x-python",
   "name": "python",
   "nbconvert_exporter": "python",
   "pygments_lexer": "ipython3",
   "version": "3.10.17"
  }
 },
 "nbformat": 4,
 "nbformat_minor": 5
}
